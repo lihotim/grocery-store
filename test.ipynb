{
 "cells": [
  {
   "cell_type": "code",
   "execution_count": 16,
   "metadata": {},
   "outputs": [],
   "source": [
    "selected_items=[\n",
    "{'id': '0', 'name': 'Item #1', 'price': 1.05, 'quantity': 8, 'image': 'https://placedog.net/300'},\n",
    "{'id': '1', 'name': 'Item #2', 'price': 2.05, 'quantity': 7, 'image': 'https://placedog.net/301'},\n",
    "{'id': '3', 'name': 'Item #4', 'price': 4.05, 'quantity': 6, 'image': 'https://placedog.net/303'},\n",
    "]"
   ]
  },
  {
   "cell_type": "code",
   "execution_count": 19,
   "metadata": {},
   "outputs": [
    {
     "name": "stdout",
     "output_type": "stream",
     "text": [
      "['0', '1', '3']\n"
     ]
    }
   ],
   "source": [
    "# Get a list of all ids\n",
    "ids_list = [item['id'] for item in selected_items]\n",
    "print(ids_list)"
   ]
  },
  {
   "cell_type": "code",
   "execution_count": 25,
   "metadata": {},
   "outputs": [
    {
     "name": "stdout",
     "output_type": "stream",
     "text": [
      "True\n"
     ]
    }
   ],
   "source": [
    "# Check if an id exists in the list\n",
    "isExist = '3' in ids_list\n",
    "print(isExist)"
   ]
  },
  {
   "cell_type": "code",
   "execution_count": 31,
   "metadata": {},
   "outputs": [
    {
     "name": "stdout",
     "output_type": "stream",
     "text": [
      "8\n"
     ]
    }
   ],
   "source": [
    "def get_quantity_by_id(item_id):\n",
    "    for item in selected_items:\n",
    "        if item['id'] == item_id:\n",
    "            return item['quantity']\n",
    "    return 0\n",
    "\n",
    "\n",
    "item_id = '0'\n",
    "past_qty = get_quantity_by_id(item_id)\n",
    "\n",
    "print(past_qty)"
   ]
  },
  {
   "cell_type": "code",
   "execution_count": 35,
   "metadata": {},
   "outputs": [
    {
     "name": "stdout",
     "output_type": "stream",
     "text": [
      "123\n"
     ]
    }
   ],
   "source": [
    "number = 123\n",
    "bool = True\n",
    "result = number if bool else 0\n",
    "print(result) "
   ]
  }
 ],
 "metadata": {
  "interpreter": {
   "hash": "aee8b7b246df8f9039afb4144a1f6fd8d2ca17a180786b69acc140d282b71a49"
  },
  "kernelspec": {
   "display_name": "Python 3.11.4 64-bit",
   "language": "python",
   "name": "python3"
  },
  "language_info": {
   "codemirror_mode": {
    "name": "ipython",
    "version": 3
   },
   "file_extension": ".py",
   "mimetype": "text/x-python",
   "name": "python",
   "nbconvert_exporter": "python",
   "pygments_lexer": "ipython3",
   "version": "3.11.4"
  },
  "orig_nbformat": 4
 },
 "nbformat": 4,
 "nbformat_minor": 2
}
